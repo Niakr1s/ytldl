{
 "cells": [
  {
   "cell_type": "code",
   "execution_count": 5,
   "metadata": {},
   "outputs": [],
   "source": [
    "from yt_dlp import YoutubeDL\n",
    "from yt_dlp.postprocessor import PostProcessor\n",
    "from typing import Any, Dict\n",
    "from ytmusicapi import YTMusic, ytmusic\n",
    "from util.json import writeJson\n",
    "\n",
    "yt = YTMusic(\"headers_auth.json\")\n",
    "\n",
    "home = yt.get_home(limit=3)\n",
    "writeJson(home, \"json/home.json\")\n",
    "\n",
    "my_supermix_playlist_id = \"RDTMAK5uy_kset8DisdE7LSD4TNjEVvrKRTmG7a56sY\"\n",
    "my_supermix_playlist = yt.get_playlist(my_supermix_playlist_id)\n",
    "\n",
    "aimer = yt.get_artist(\"UC_gksw7NEueO_u3lPL372hA\")\n",
    "writeJson(aimer, \"json/aimer.json\")\n",
    "\n",
    "aimer_list = yt.get_playlist(\"OLAK5uy_k3MhpJYfxJH099ZbTqgGF9fpPCE_QXSVQ\")\n",
    "\n",
    "writeJson(my_supermix_playlist, \"json/my_supermix.json\")\n",
    "\n",
    "song_video_id = \"pm9JyMiAU6A\"\n",
    "\n",
    "song = yt.get_song(song_video_id)\n",
    "writeJson(song, \"json/song.json\")\n",
    "\n",
    "watch_playlist = yt.get_watch_playlist(song_video_id)\n",
    "writeJson(watch_playlist, \"json/watch_playlist.json\")\n",
    "\n",
    "lyrics = yt.get_lyrics(watch_playlist[\"lyrics\"])\n",
    "lyrics = lyrics[\"lyrics\"]\n",
    "\n",
    "url = \"https://www.youtube.com/watch?v={}\".format(song_video_id)"
   ]
  },
  {
   "cell_type": "code",
   "execution_count": 5,
   "metadata": {},
   "outputs": [
    {
     "name": "stdout",
     "output_type": "stream",
     "text": [
      "{'©too': ['Lavf59.27.100'], '©ART': ['a'], '©lyr': ['asdf'], '©nam': ['t'], '----:com.apple.iTunes:WWW': [MP4FreeForm(b'asdf', <AtomDataType.UTF8: 1>)]}\n"
     ]
    }
   ],
   "source": [
    "from mutagen.mp4 import MP4\n",
    "\n",
    "audio = MP4(\"Saikai (produced by Ayase) [pm9JyMiAU6A].m4a\")\n",
    "print(audio.tags)"
   ]
  },
  {
   "cell_type": "code",
   "execution_count": 12,
   "metadata": {},
   "outputs": [
    {
     "name": "stdout",
     "output_type": "stream",
     "text": [
      "tmp_new.txt\n"
     ]
    }
   ],
   "source": [
    "from pathlib import Path\n",
    "from time import sleep\n",
    "\n",
    "p = Path(\"tmp.txt\")\n",
    "p.open(\"w\")\n",
    "suffix = p.suffix \n",
    "parent = p.parent\n",
    "\n",
    "new_p = Path(parent, \"tmp_new\"+suffix)\n",
    "new_p.unlink(missing_ok=True)\n",
    "\n",
    "p = p.rename(Path(parent, \"tmp_new\"+suffix))\n",
    "\n",
    "sleep(1)\n",
    "p.unlink(missing_ok=True)\n",
    "new_p.unlink(missing_ok=True)\n",
    "\n",
    "print(str(p))"
   ]
  },
  {
   "cell_type": "code",
   "execution_count": 19,
   "metadata": {},
   "outputs": [
    {
     "ename": "Exception",
     "evalue": "Server returned HTTP 404: Not Found.\nRequested entity was not found.",
     "output_type": "error",
     "traceback": [
      "\u001b[1;31m---------------------------------------------------------------------------\u001b[0m",
      "\u001b[1;31mException\u001b[0m                                 Traceback (most recent call last)",
      "Cell \u001b[1;32mIn [19], line 4\u001b[0m\n\u001b[0;32m      1\u001b[0m \u001b[38;5;28;01mfrom\u001b[39;00m \u001b[38;5;21;01myt\u001b[39;00m\u001b[38;5;21;01m.\u001b[39;00m\u001b[38;5;21;01mdownload\u001b[39;00m \u001b[38;5;28;01mimport\u001b[39;00m Downloader\n\u001b[0;32m      3\u001b[0m d \u001b[38;5;241m=\u001b[39m Downloader(download_dir\u001b[38;5;241m=\u001b[39m\u001b[38;5;124m\"\u001b[39m\u001b[38;5;124mtmp\u001b[39m\u001b[38;5;124m\"\u001b[39m)\n\u001b[1;32m----> 4\u001b[0m d\u001b[38;5;241m.\u001b[39mdownload_playlist(\u001b[38;5;124m\"\u001b[39m\u001b[38;5;124mRDTMAK5uy_kset8DisdE7LSD4TNjEVvrKRTmG7a56sY\u001b[39m\u001b[38;5;124m\"\u001b[39m)\n",
      "File \u001b[1;32md:\\Projects\\ytldl\\yt\\download.py:51\u001b[0m, in \u001b[0;36mDownloader.download_playlist\u001b[1;34m(self, playlist_id)\u001b[0m\n\u001b[0;32m     49\u001b[0m res: List[\u001b[39mstr\u001b[39m] \u001b[39m=\u001b[39m []\n\u001b[0;32m     50\u001b[0m url \u001b[39m=\u001b[39m \u001b[39m\"\u001b[39m\u001b[39mhttps://youtube.com/playlist?list=\u001b[39m\u001b[39m{}\u001b[39;00m\u001b[39m\"\u001b[39m\u001b[39m.\u001b[39mformat(playlist_id)\n\u001b[1;32m---> 51\u001b[0m playlist \u001b[39m=\u001b[39m \u001b[39mself\u001b[39m\u001b[39m.\u001b[39m_yt\u001b[39m.\u001b[39mget_playlist(playlist_id)\n\u001b[0;32m     52\u001b[0m tracks \u001b[39m=\u001b[39m playlist[\u001b[39m'\u001b[39m\u001b[39mtracks\u001b[39m\u001b[39m'\u001b[39m]\n\u001b[0;32m     53\u001b[0m \u001b[39mfor\u001b[39;00m track \u001b[39min\u001b[39;00m tracks:\n",
      "File \u001b[1;32mc:\\Python\\Python310\\lib\\site-packages\\ytmusicapi\\mixins\\playlists.py:70\u001b[0m, in \u001b[0;36mPlaylistsMixin.get_playlist\u001b[1;34m(self, playlistId, limit)\u001b[0m\n\u001b[0;32m     68\u001b[0m body \u001b[39m=\u001b[39m {\u001b[39m'\u001b[39m\u001b[39mbrowseId\u001b[39m\u001b[39m'\u001b[39m: browseId}\n\u001b[0;32m     69\u001b[0m endpoint \u001b[39m=\u001b[39m \u001b[39m'\u001b[39m\u001b[39mbrowse\u001b[39m\u001b[39m'\u001b[39m\n\u001b[1;32m---> 70\u001b[0m response \u001b[39m=\u001b[39m \u001b[39mself\u001b[39;49m\u001b[39m.\u001b[39;49m_send_request(endpoint, body)\n\u001b[0;32m     71\u001b[0m results \u001b[39m=\u001b[39m nav(response,\n\u001b[0;32m     72\u001b[0m               SINGLE_COLUMN_TAB \u001b[39m+\u001b[39m SECTION_LIST_ITEM \u001b[39m+\u001b[39m [\u001b[39m'\u001b[39m\u001b[39mmusicPlaylistShelfRenderer\u001b[39m\u001b[39m'\u001b[39m])\n\u001b[0;32m     73\u001b[0m playlist \u001b[39m=\u001b[39m {\u001b[39m'\u001b[39m\u001b[39mid\u001b[39m\u001b[39m'\u001b[39m: results[\u001b[39m'\u001b[39m\u001b[39mplaylistId\u001b[39m\u001b[39m'\u001b[39m]}\n",
      "File \u001b[1;32mc:\\Python\\Python310\\lib\\site-packages\\ytmusicapi\\ytmusic.py:144\u001b[0m, in \u001b[0;36mYTMusic._send_request\u001b[1;34m(self, endpoint, body, additionalParams)\u001b[0m\n\u001b[0;32m    141\u001b[0m     message \u001b[39m=\u001b[39m \u001b[39m\"\u001b[39m\u001b[39mServer returned HTTP \u001b[39m\u001b[39m\"\u001b[39m \u001b[39m+\u001b[39m \u001b[39mstr\u001b[39m(\n\u001b[0;32m    142\u001b[0m         response\u001b[39m.\u001b[39mstatus_code) \u001b[39m+\u001b[39m \u001b[39m\"\u001b[39m\u001b[39m: \u001b[39m\u001b[39m\"\u001b[39m \u001b[39m+\u001b[39m response\u001b[39m.\u001b[39mreason \u001b[39m+\u001b[39m \u001b[39m\"\u001b[39m\u001b[39m.\u001b[39m\u001b[39m\\n\u001b[39;00m\u001b[39m\"\u001b[39m\n\u001b[0;32m    143\u001b[0m     error \u001b[39m=\u001b[39m response_text\u001b[39m.\u001b[39mget(\u001b[39m'\u001b[39m\u001b[39merror\u001b[39m\u001b[39m'\u001b[39m, {})\u001b[39m.\u001b[39mget(\u001b[39m'\u001b[39m\u001b[39mmessage\u001b[39m\u001b[39m'\u001b[39m)\n\u001b[1;32m--> 144\u001b[0m     \u001b[39mraise\u001b[39;00m \u001b[39mException\u001b[39;00m(message \u001b[39m+\u001b[39m error)\n\u001b[0;32m    145\u001b[0m \u001b[39mreturn\u001b[39;00m response_text\n",
      "\u001b[1;31mException\u001b[0m: Server returned HTTP 404: Not Found.\nRequested entity was not found."
     ]
    }
   ],
   "source": [
    "from yt.download import Downloader\n",
    "\n",
    "d = Downloader(download_dir=\"tmp\")\n",
    "d.download_playlist(\"RDTMAK5uy_kset8DisdE7LSD4TNjEVvrKRTmG7a56sY\")"
   ]
  }
 ],
 "metadata": {
  "kernelspec": {
   "display_name": "Python 3.10.7 64-bit",
   "language": "python",
   "name": "python3"
  },
  "language_info": {
   "codemirror_mode": {
    "name": "ipython",
    "version": 3
   },
   "file_extension": ".py",
   "mimetype": "text/x-python",
   "name": "python",
   "nbconvert_exporter": "python",
   "pygments_lexer": "ipython3",
   "version": "3.10.7"
  },
  "orig_nbformat": 4,
  "vscode": {
   "interpreter": {
    "hash": "d3e10ef16274dd72e574b8fa73b58450b957d8421a2901baded3cca26fcf5dda"
   }
  }
 },
 "nbformat": 4,
 "nbformat_minor": 2
}
